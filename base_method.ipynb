{
 "cells": [
  {
   "cell_type": "code",
   "execution_count": 38,
   "id": "13c069d2",
   "metadata": {},
   "outputs": [],
   "source": [
    "# pip install scikit-learn"
   ]
  },
  {
   "cell_type": "code",
   "execution_count": 1,
   "id": "dad242df",
   "metadata": {},
   "outputs": [
    {
     "name": "stdout",
     "output_type": "stream",
     "text": [
      "训练集大小: 25000\n",
      "测试集大小: 25000\n",
      "示例文本: Bromwell High is a cartoon comedy. It ran at the same time as some other programs about school life, such as \"Teachers\". My 35 years in the teaching profession lead me to believe that Bromwell High's satire is much closer to reality than is \"Teachers\". The scramble to survive financially, the insightful students who can see right through their pathetic teachers' pomp, the pettiness of the whole situation, all remind me of the schools I knew and their students. When I saw the episode in which a student repeatedly tried to burn down the school, I immediately recalled ......... at .......... High. A classic line: INSPECTOR: I'm here to sack one of your teachers. STUDENT: Welcome to Bromwell High. I expect that many adults of my age think that Bromwell High is far fetched. What a pity that it isn't!\n",
      "示例标签: 1\n"
     ]
    }
   ],
   "source": [
    "import os\n",
    "from sklearn.model_selection import train_test_split\n",
    "\n",
    "def load_imdb_data(data_dir):\n",
    "    texts = []\n",
    "    labels = []\n",
    "\n",
    "    # 读取正面评论\n",
    "    pos_dir = os.path.join(data_dir, 'pos')\n",
    "    for filename in os.listdir(pos_dir):\n",
    "        with open(os.path.join(pos_dir, filename), 'r', encoding='utf-8') as f:\n",
    "            texts.append(f.read())\n",
    "            labels.append(1)  # 正面评论标签为 1\n",
    "\n",
    "    # 读取负面评论\n",
    "    neg_dir = os.path.join(data_dir, 'neg')\n",
    "    for filename in os.listdir(neg_dir):\n",
    "        with open(os.path.join(neg_dir, filename), 'r', encoding='utf-8') as f:\n",
    "            texts.append(f.read())\n",
    "            labels.append(0)  # 负面评论标签为 0\n",
    "\n",
    "    return texts, labels\n",
    "\n",
    "# 加载训练集和测试集\n",
    "train_texts, train_labels = load_imdb_data('../data/aclImdb/train')\n",
    "test_texts, test_labels = load_imdb_data('../data/aclImdb/test')\n",
    "\n",
    "# 打印样本\n",
    "print(f\"训练集大小: {len(train_texts)}\")\n",
    "print(f\"测试集大小: {len(test_texts)}\")\n",
    "print(f\"示例文本: {train_texts[0]}\")\n",
    "print(f\"示例标签: {train_labels[0]}\")"
   ]
  },
  {
   "cell_type": "code",
   "execution_count": 3,
   "id": "8254f06a",
   "metadata": {},
   "outputs": [],
   "source": [
    "# pip install matplotlib"
   ]
  },
  {
   "cell_type": "code",
   "execution_count": 4,
   "id": "d1f3bd0d",
   "metadata": {},
   "outputs": [],
   "source": [
    "# pip install seaborn"
   ]
  },
  {
   "cell_type": "code",
   "execution_count": 5,
   "id": "859da7cd",
   "metadata": {},
   "outputs": [
    {
     "name": "stdout",
     "output_type": "stream",
     "text": [
      "训练集信息:\n",
      "<class 'pandas.core.frame.DataFrame'>\n",
      "RangeIndex: 25000 entries, 0 to 24999\n",
      "Data columns (total 2 columns):\n",
      " #   Column  Non-Null Count  Dtype \n",
      "---  ------  --------------  ----- \n",
      " 0   text    25000 non-null  object\n",
      " 1   label   25000 non-null  int64 \n",
      "dtypes: int64(1), object(1)\n",
      "memory usage: 390.8+ KB\n",
      "None\n",
      "\n",
      "测试集信息:\n",
      "<class 'pandas.core.frame.DataFrame'>\n",
      "RangeIndex: 25000 entries, 0 to 24999\n",
      "Data columns (total 2 columns):\n",
      " #   Column  Non-Null Count  Dtype \n",
      "---  ------  --------------  ----- \n",
      " 0   text    25000 non-null  object\n",
      " 1   label   25000 non-null  int64 \n",
      "dtypes: int64(1), object(1)\n",
      "memory usage: 390.8+ KB\n",
      "None\n",
      "\n",
      "训练集标签分布:\n",
      "label\n",
      "1    12500\n",
      "0    12500\n",
      "Name: count, dtype: int64\n",
      "\n",
      "测试集标签分布:\n",
      "label\n",
      "1    12500\n",
      "0    12500\n",
      "Name: count, dtype: int64\n",
      "\n",
      "训练集文本长度统计:\n",
      "count    25000.00000\n",
      "mean      1325.06964\n",
      "std       1003.13367\n",
      "min         52.00000\n",
      "25%        702.00000\n",
      "50%        979.00000\n",
      "75%       1614.00000\n",
      "max      13704.00000\n",
      "Name: text_length, dtype: float64\n",
      "\n",
      "测试集文本长度统计:\n",
      "count    25000.00000\n",
      "mean      1293.79240\n",
      "std        975.90776\n",
      "min         32.00000\n",
      "25%        696.00000\n",
      "50%        962.00000\n",
      "75%       1572.00000\n",
      "max      12988.00000\n",
      "Name: text_length, dtype: float64\n",
      "训练集词数统计:\n",
      "count    25000.000000\n",
      "mean       233.787200\n",
      "std        173.733032\n",
      "min         10.000000\n",
      "25%        127.000000\n",
      "50%        174.000000\n",
      "75%        284.000000\n",
      "max       2470.000000\n",
      "Name: word_count, dtype: float64\n",
      "\n",
      "测试集词数统计:\n",
      "count    25000.000000\n",
      "mean       228.526680\n",
      "std        168.883693\n",
      "min          4.000000\n",
      "25%        126.000000\n",
      "50%        172.000000\n",
      "75%        277.000000\n",
      "max       2278.000000\n",
      "Name: word_count, dtype: float64\n"
     ]
    },
    {
     "data": {
      "image/png": "[encoded data removed]",
      "text/plain": [
       "<Figure size 1000x500 with 1 Axes>"
      ]
     },
     "metadata": {},
     "output_type": "display_data"
    }
   ],
   "source": [
    "# 对数据进行探索性分析，了解数据的基本特征\n",
    "import pandas as pd\n",
    "\n",
    "# 将数据转换为 DataFrame\n",
    "train_df = pd.DataFrame({'text': train_texts, 'label': train_labels})\n",
    "test_df = pd.DataFrame({'text': test_texts, 'label': test_labels})\n",
    "\n",
    "# 查看数据基本信息\n",
    "print(\"训练集信息:\")\n",
    "print(train_df.info())\n",
    "print(\"\\n测试集信息:\")\n",
    "print(test_df.info())\n",
    "\n",
    "# 查看标签分布\n",
    "print(\"\\n训练集标签分布:\")\n",
    "print(train_df['label'].value_counts())\n",
    "print(\"\\n测试集标签分布:\")\n",
    "print(test_df['label'].value_counts())\n",
    "\n",
    "# 查看文本长度分布\n",
    "train_df['text_length'] = train_df['text'].apply(len)\n",
    "test_df['text_length'] = test_df['text'].apply(len)\n",
    "\n",
    "print(\"\\n训练集文本长度统计:\")\n",
    "print(train_df['text_length'].describe())\n",
    "print(\"\\n测试集文本长度统计:\")\n",
    "print(test_df['text_length'].describe())\n",
    "\n",
    "# 统计词数\n",
    "train_df['word_count'] = train_df['text'].apply(lambda x: len(x.split()))\n",
    "test_df['word_count'] = test_df['text'].apply(lambda x: len(x.split()))\n",
    "\n",
    "# 查看词数分布\n",
    "print(\"训练集词数统计:\")\n",
    "print(train_df['word_count'].describe())\n",
    "print(\"\\n测试集词数统计:\")\n",
    "print(test_df['word_count'].describe())\n",
    "\n",
    "# 可视化文本长度分布\n",
    "import matplotlib.pyplot as plt\n",
    "import seaborn as sns\n",
    "\n",
    "plt.figure(figsize=(10, 5))\n",
    "sns.histplot(train_df['word_count'], bins=50, kde=True)\n",
    "plt.title(\"the text word_count about train dataset\")\n",
    "plt.show()"
   ]
  },
  {
   "cell_type": "code",
   "execution_count": 6,
   "id": "291fe964",
   "metadata": {},
   "outputs": [
    {
     "name": "stdout",
     "output_type": "stream",
     "text": [
      "词汇表大小: 10002\n",
      "示例词汇: [('the', 2), ('a', 3), ('and', 4), ('of', 5), ('to', 6), ('is', 7), ('in', 8), ('I', 9), ('that', 10), ('this', 11)]\n"
     ]
    }
   ],
   "source": [
    "# 根据训练集文本构建词汇表，将文本转换为数值表示。\n",
    "from collections import Counter\n",
    "\n",
    "# 构建词汇表\n",
    "def build_vocab(texts, vocab_size=10000):\n",
    "    counter = Counter()\n",
    "    for text in texts:\n",
    "        counter.update(text.split())\n",
    "    vocab = {word: idx + 2 for idx, (word, _) in enumerate(counter.most_common(vocab_size))}\n",
    "    vocab['<PAD>'] = 0  # 填充符\n",
    "    vocab['<UNK>'] = 1  # 未知词\n",
    "    return vocab\n",
    "\n",
    "# 只会编码出现次数最多的10000个词\n",
    "vocab = build_vocab(train_texts, vocab_size=10000)\n",
    "print(f\"词汇表大小: {len(vocab)}\")\n",
    "print(\"示例词汇:\", list(vocab.items())[:10])"
   ]
  },
  {
   "cell_type": "code",
   "execution_count": 7,
   "id": "e1d0fc5c",
   "metadata": {},
   "outputs": [
    {
     "name": "stdout",
     "output_type": "stream",
     "text": [
      "未知词数量: 802253\n",
      "总词数: 5844680\n",
      "未知词比例: 13.73%\n"
     ]
    }
   ],
   "source": [
    "# 检查有多少词汇被映射为 <UNK>\n",
    "def count_unk_words(texts, vocab):\n",
    "    unk_count = 0\n",
    "    total_count = 0\n",
    "    for text in texts:\n",
    "        for word in text.split():\n",
    "            total_count += 1\n",
    "            if word not in vocab:\n",
    "                unk_count += 1\n",
    "    return unk_count, total_count\n",
    "\n",
    "unk_count, total_count = count_unk_words(train_texts, vocab)\n",
    "print(f\"未知词数量: {unk_count}\")\n",
    "print(f\"总词数: {total_count}\")\n",
    "print(f\"未知词比例: {unk_count / total_count:.2%}\")"
   ]
  },
  {
   "cell_type": "code",
   "execution_count": 8,
   "id": "7ef88479",
   "metadata": {},
   "outputs": [
    {
     "name": "stdout",
     "output_type": "stream",
     "text": [
      "示例文本: Bromwell High is a cartoon comedy. It ran at the same time as some other programs about school life, such as \"Teachers\". My 35 years in the teaching profession lead me to believe that Bromwell High's satire is much closer to reality than is \"Teachers\". The scramble to survive financially, the insightful students who can see right through their pathetic teachers' pomp, the pettiness of the whole situation, all remind me of the schools I knew and their students. When I saw the episode in which a student repeatedly tried to burn down the school, I immediately recalled ......... at .......... High. A classic line: INSPECTOR: I'm here to sack one of your teachers. STUDENT: Welcome to Bromwell High. I expect that many adults of my age think that Bromwell High is far fetched. What a pity that it isn't!\n",
      "转换后的序列: [1, 2717, 7, 3, 1398, 1350, 56, 2215, 31, 2, 169, 83, 15, 46, 80, 9006, 42, 518, 776, 138, 15, 1, 359, 7182, 190, 8, 2, 5768, 8850, 493, 84, 6, 263, 10, 1, 1, 2618, 7, 78, 2641, 6, 897, 70, 7, 1, 19, 1, 6, 2701, 1, 2, 7910, 1890, 35, 64, 67, 257, 148, 55, 1703, 1, 1, 2, 1, 5, 2, 213, 5388, 37, 2973, 84, 5, 2, 8534, 9, 635, 4, 55, 9007, 283, 9, 207, 2, 482, 8, 61, 3, 1831, 4548, 762, 6, 4381, 215, 2, 3138, 9, 1369, 1, 1, 31, 1, 1, 133, 441, 7520, 1, 160, 225, 6, 1, 32, 5, 117, 1, 1, 1, 6, 1, 1, 9, 543, 10, 102, 2041, 5, 66, 877, 98, 10, 1, 2717, 7, 237, 1, 255, 3, 3139, 10, 12, 1]\n"
     ]
    }
   ],
   "source": [
    "# 使用词汇表将文本转换为数值序列\n",
    "def text_to_sequence(text, vocab):\n",
    "    return [vocab.get(word, vocab['<UNK>']) for word in text.split()]\n",
    "\n",
    "# 转换训练集和测试集\n",
    "train_sequences = [text_to_sequence(text, vocab) for text in train_texts]\n",
    "test_sequences = [text_to_sequence(text, vocab) for text in test_texts]\n",
    "\n",
    "print(\"示例文本:\", train_texts[0])\n",
    "print(\"转换后的序列:\", train_sequences[0])"
   ]
  },
  {
   "cell_type": "code",
   "execution_count": 9,
   "id": "76606a30",
   "metadata": {},
   "outputs": [
    {
     "name": "stdout",
     "output_type": "stream",
     "text": [
      "填充后的序列形状: (25000, 300)\n",
      "示例填充序列: [   1 2717    7    3 1398 1350   56 2215   31    2  169   83   15   46\n",
      "   80 9006   42  518  776  138   15    1  359 7182  190    8    2 5768\n",
      " 8850  493   84    6  263   10    1    1 2618    7   78 2641    6  897\n",
      "   70    7    1   19    1    6 2701    1    2 7910 1890   35   64   67\n",
      "  257  148   55 1703    1    1    2    1    5    2  213 5388   37 2973\n",
      "   84    5    2 8534    9  635    4   55 9007  283    9  207    2  482\n",
      "    8   61    3 1831 4548  762    6 4381  215    2 3138    9 1369    1\n",
      "    1   31    1    1  133  441 7520    1  160  225    6    1   32    5\n",
      "  117    1    1    1    6    1    1    9  543   10  102 2041    5   66\n",
      "  877   98   10    1 2717    7  237    1  255    3 3139   10   12    1\n",
      "    0    0    0    0    0    0    0    0    0    0    0    0    0    0\n",
      "    0    0    0    0    0    0    0    0    0    0    0    0    0    0\n",
      "    0    0    0    0    0    0    0    0    0    0    0    0    0    0\n",
      "    0    0    0    0    0    0    0    0    0    0    0    0    0    0\n",
      "    0    0    0    0    0    0    0    0    0    0    0    0    0    0\n",
      "    0    0    0    0    0    0    0    0    0    0    0    0    0    0\n",
      "    0    0    0    0    0    0    0    0    0    0    0    0    0    0\n",
      "    0    0    0    0    0    0    0    0    0    0    0    0    0    0\n",
      "    0    0    0    0    0    0    0    0    0    0    0    0    0    0\n",
      "    0    0    0    0    0    0    0    0    0    0    0    0    0    0\n",
      "    0    0    0    0    0    0    0    0    0    0    0    0    0    0\n",
      "    0    0    0    0    0    0]\n"
     ]
    }
   ],
   "source": [
    "# 将文本序列填充或截断为固定长度，确保输入数据一致性\n",
    "import numpy as np\n",
    "\n",
    "def pad_sequences(sequences, max_len, pad_value=0):\n",
    "    padded = np.full((len(sequences), max_len), pad_value)\n",
    "    for i, seq in enumerate(sequences):\n",
    "        if len(seq) > max_len:\n",
    "            padded[i] = seq[:max_len]  # 截断\n",
    "        else:\n",
    "            padded[i, :len(seq)] = seq  # 填充\n",
    "    return padded\n",
    "\n",
    "max_len = 300  # 设定最大长度\n",
    "train_padded = pad_sequences(train_sequences, max_len)\n",
    "test_padded = pad_sequences(test_sequences, max_len)\n",
    "\n",
    "print(\"填充后的序列形状:\", train_padded.shape)\n",
    "print(\"示例填充序列:\", train_padded[0])"
   ]
  },
  {
   "cell_type": "markdown",
   "id": "8dfc5dcd",
   "metadata": {},
   "source": [
    "#### 将预处理结果保存，以便后续使用时直接读取"
   ]
  },
  {
   "cell_type": "code",
   "execution_count": 10,
   "id": "a97c3bd8",
   "metadata": {},
   "outputs": [],
   "source": [
    "# 将预处理后的数据保存，方便后续使用\n",
    "import pickle\n",
    "\n",
    "# 保存词汇表\n",
    "with open('vocab.pkl', 'wb') as f:\n",
    "    pickle.dump(vocab, f)\n",
    "\n",
    "# 保存预处理后的数据\n",
    "with open('train_data.pkl', 'wb') as f:\n",
    "    pickle.dump((train_padded, train_labels), f)\n",
    "\n",
    "with open('test_data.pkl', 'wb') as f:\n",
    "    pickle.dump((test_padded, test_labels), f)"
   ]
  },
  {
   "cell_type": "code",
   "execution_count": 11,
   "id": "69c3033b",
   "metadata": {},
   "outputs": [],
   "source": [
    "# 加载预处理后的数据\n",
    "with open('vocab.pkl', 'rb') as f:\n",
    "    vocab = pickle.load(f)\n",
    "\n",
    "with open('train_data.pkl', 'rb') as f:\n",
    "    train_padded, train_labels = pickle.load(f)\n",
    "\n",
    "with open('test_data.pkl', 'rb') as f:\n",
    "    test_padded, test_labels = pickle.load(f)"
   ]
  },
  {
   "cell_type": "code",
   "execution_count": 1,
   "id": "0779aa6d",
   "metadata": {},
   "outputs": [
    {
     "ename": "NameError",
     "evalue": "name 'train_padded' is not defined",
     "output_type": "error",
     "traceback": [
      "\u001b[1;31m---------------------------------------------------------------------------\u001b[0m",
      "\u001b[1;31mNameError\u001b[0m                                 Traceback (most recent call last)",
      "Cell \u001b[1;32mIn[1], line 16\u001b[0m\n\u001b[0;32m     13\u001b[0m         \u001b[38;5;28;01mreturn\u001b[39;00m torch\u001b[38;5;241m.\u001b[39mtensor(\u001b[38;5;28mself\u001b[39m\u001b[38;5;241m.\u001b[39msequences[idx], dtype\u001b[38;5;241m=\u001b[39mtorch\u001b[38;5;241m.\u001b[39mlong), torch\u001b[38;5;241m.\u001b[39mtensor(\u001b[38;5;28mself\u001b[39m\u001b[38;5;241m.\u001b[39mlabels[idx], dtype\u001b[38;5;241m=\u001b[39mtorch\u001b[38;5;241m.\u001b[39mlong)\n\u001b[0;32m     15\u001b[0m \u001b[38;5;66;03m# 创建数据集\u001b[39;00m\n\u001b[1;32m---> 16\u001b[0m train_dataset \u001b[38;5;241m=\u001b[39m IMDBDataset(\u001b[43mtrain_padded\u001b[49m, train_labels)\n\u001b[0;32m     17\u001b[0m test_dataset \u001b[38;5;241m=\u001b[39m IMDBDataset(test_padded, test_labels)\n\u001b[0;32m     19\u001b[0m \u001b[38;5;66;03m# 创建 DataLoader\u001b[39;00m\n",
      "\u001b[1;31mNameError\u001b[0m: name 'train_padded' is not defined"
     ]
    }
   ],
   "source": [
    "from torch.utils.data import Dataset, DataLoader\n",
    "import torch\n",
    "\n",
    "class IMDBDataset(Dataset):\n",
    "    def __init__(self, sequences, labels):\n",
    "        self.sequences = sequences\n",
    "        self.labels = labels\n",
    "\n",
    "    def __len__(self):\n",
    "        return len(self.labels)\n",
    "\n",
    "    def __getitem__(self, idx):\n",
    "        return torch.tensor(self.sequences[idx], dtype=torch.long), torch.tensor(self.labels[idx], dtype=torch.long)\n",
    "\n",
    "# 创建数据集\n",
    "train_dataset = IMDBDataset(train_padded, train_labels)\n",
    "test_dataset = IMDBDataset(test_padded, test_labels)\n",
    "\n",
    "# 创建 DataLoader\n",
    "train_loader = DataLoader(train_dataset, batch_size=32, shuffle=True)\n",
    "test_loader = DataLoader(test_dataset, batch_size=32, shuffle=False)\n",
    "\n",
    "# 检查一个批次的数据\n",
    "for batch in train_loader:\n",
    "    print(\"输入数据形状:\", batch[0].shape)\n",
    "    print(\"标签数据形状:\", batch[1].shape)\n",
    "    break"
   ]
  },
  {
   "cell_type": "code",
   "execution_count": 13,
   "id": "1fc9c57d",
   "metadata": {},
   "outputs": [],
   "source": [
    "import torch.nn as nn\n",
    "\n",
    "class TextClassifier(nn.Module):\n",
    "    def __init__(self, vocab_size, embed_dim, hidden_dim, num_classes):\n",
    "        super(TextClassifier, self).__init__()\n",
    "        # nn.Embedding 层的作用是将离散的词汇索引映射到连续的向量空间。\n",
    "        # 具体来说，nn.Embedding 层将每个词汇索引（通常是一个整数）转换为一个固定维度的向量（embed_dim 维度）\n",
    "        self.embedding = nn.Embedding(vocab_size, embed_dim)\n",
    "        self.rnn = nn.LSTM(embed_dim, hidden_dim, batch_first=True)\n",
    "        self.fc = nn.Linear(hidden_dim, num_classes)\n",
    "\n",
    "    def forward(self, x):\n",
    "        embedded = self.embedding(x)  # (batch_size, seq_len, embed_dim)\n",
    "        _, (hidden, _) = self.rnn(embedded)  # hidden: (1, batch_size, hidden_dim)\n",
    "        output = self.fc(hidden.squeeze(0))  # (batch_size, num_classes)\n",
    "        return output\n",
    "\n",
    "# 初始化模型\n",
    "vocab_size = 10002  # 词汇表大小\n",
    "embed_dim = 300  # 词向量维度\n",
    "hidden_dim = 256  # LSTM 隐藏层维度\n",
    "num_classes = 2  # 二分类任务\n",
    "model = TextClassifier(vocab_size, embed_dim, hidden_dim, num_classes)"
   ]
  },
  {
   "cell_type": "code",
   "execution_count": 21,
   "id": "1c68a1d3",
   "metadata": {},
   "outputs": [],
   "source": [
    "import torch.optim as optim\n",
    "from torch.optim.lr_scheduler import ReduceLROnPlateau\n",
    "\n",
    "# 配置优化器\n",
    "optimizer = optim.Adam(model.parameters(), lr=0.001)\n",
    "\n",
    "# 定义学习率调度器\n",
    "\"\"\"\n",
    "mode='max'：监控验证集准确率的最大值。\n",
    "factor=0.1：每次降低学习率的因子（新学习率 = 当前学习率 * factor）。\n",
    "patience=2：如果验证集性能在 2 个 epoch 内没有提升，则降低学习率。\n",
    "\"\"\"\n",
    "scheduler = ReduceLROnPlateau(optimizer, mode='max', factor=0.1, patience=2)\n",
    "\n",
    "# 配置损失函数\n",
    "loss_fn = nn.CrossEntropyLoss()"
   ]
  },
  {
   "cell_type": "code",
   "execution_count": 27,
   "id": "446436c1",
   "metadata": {},
   "outputs": [
    {
     "name": "stderr",
     "output_type": "stream",
     "text": [
      "Epoch 1/20: 100%|██████████████████████████████████████████████████████| 782/782 [00:12<00:00, 62.05it/s, loss=0.00235]\n"
     ]
    },
    {
     "name": "stdout",
     "output_type": "stream",
     "text": [
      "Epoch 1 平均损失: 0.0391\n"
     ]
    },
    {
     "name": "stderr",
     "output_type": "stream",
     "text": [
      "验证: 100%|█████████████████████████████████████████████████████████████████████████| 782/782 [00:04<00:00, 173.66it/s]\n"
     ]
    },
    {
     "name": "stdout",
     "output_type": "stream",
     "text": [
      "验证集准确率: 0.9938\n"
     ]
    },
    {
     "name": "stderr",
     "output_type": "stream",
     "text": [
      "Epoch 2/20: 100%|██████████████████████████████████████████████████████| 782/782 [00:12<00:00, 63.89it/s, loss=0.00551]\n"
     ]
    },
    {
     "name": "stdout",
     "output_type": "stream",
     "text": [
      "Epoch 2 平均损失: 0.0290\n"
     ]
    },
    {
     "name": "stderr",
     "output_type": "stream",
     "text": [
      "验证: 100%|█████████████████████████████████████████████████████████████████████████| 782/782 [00:04<00:00, 169.57it/s]\n"
     ]
    },
    {
     "name": "stdout",
     "output_type": "stream",
     "text": [
      "验证集准确率: 0.9964\n"
     ]
    },
    {
     "name": "stderr",
     "output_type": "stream",
     "text": [
      "Epoch 3/20: 100%|██████████████████████████████████████████████████████| 782/782 [00:12<00:00, 63.61it/s, loss=0.00547]\n"
     ]
    },
    {
     "name": "stdout",
     "output_type": "stream",
     "text": [
      "Epoch 3 平均损失: 0.0210\n"
     ]
    },
    {
     "name": "stderr",
     "output_type": "stream",
     "text": [
      "验证: 100%|█████████████████████████████████████████████████████████████████████████| 782/782 [00:04<00:00, 173.37it/s]\n"
     ]
    },
    {
     "name": "stdout",
     "output_type": "stream",
     "text": [
      "验证集准确率: 0.9966\n"
     ]
    },
    {
     "name": "stderr",
     "output_type": "stream",
     "text": [
      "Epoch 4/20: 100%|██████████████████████████████████████████████████████| 782/782 [00:12<00:00, 63.57it/s, loss=0.00686]\n"
     ]
    },
    {
     "name": "stdout",
     "output_type": "stream",
     "text": [
      "Epoch 4 平均损失: 0.0227\n"
     ]
    },
    {
     "name": "stderr",
     "output_type": "stream",
     "text": [
      "验证: 100%|█████████████████████████████████████████████████████████████████████████| 782/782 [00:04<00:00, 174.06it/s]\n"
     ]
    },
    {
     "name": "stdout",
     "output_type": "stream",
     "text": [
      "验证集准确率: 0.9964\n"
     ]
    },
    {
     "name": "stderr",
     "output_type": "stream",
     "text": [
      "Epoch 5/20: 100%|████████████████████████████████████████████████████████| 782/782 [00:12<00:00, 63.35it/s, loss=0.076]\n"
     ]
    },
    {
     "name": "stdout",
     "output_type": "stream",
     "text": [
      "Epoch 5 平均损失: 0.0204\n"
     ]
    },
    {
     "name": "stderr",
     "output_type": "stream",
     "text": [
      "验证: 100%|█████████████████████████████████████████████████████████████████████████| 782/782 [00:04<00:00, 174.10it/s]\n"
     ]
    },
    {
     "name": "stdout",
     "output_type": "stream",
     "text": [
      "验证集准确率: 0.9950\n"
     ]
    },
    {
     "name": "stderr",
     "output_type": "stream",
     "text": [
      "Epoch 6/20: 100%|████████████████████████████████████████████████████████| 782/782 [00:12<00:00, 63.28it/s, loss=0.144]\n"
     ]
    },
    {
     "name": "stdout",
     "output_type": "stream",
     "text": [
      "Epoch 6 平均损失: 0.0245\n"
     ]
    },
    {
     "name": "stderr",
     "output_type": "stream",
     "text": [
      "验证: 100%|█████████████████████████████████████████████████████████████████████████| 782/782 [00:04<00:00, 167.54it/s]\n"
     ]
    },
    {
     "name": "stdout",
     "output_type": "stream",
     "text": [
      "验证集准确率: 0.9972\n"
     ]
    },
    {
     "name": "stderr",
     "output_type": "stream",
     "text": [
      "Epoch 7/20: 100%|███████████████████████████████████████████████████████| 782/782 [00:12<00:00, 62.02it/s, loss=0.0116]\n"
     ]
    },
    {
     "name": "stdout",
     "output_type": "stream",
     "text": [
      "Epoch 7 平均损失: 0.0166\n"
     ]
    },
    {
     "name": "stderr",
     "output_type": "stream",
     "text": [
      "验证: 100%|█████████████████████████████████████████████████████████████████████████| 782/782 [00:04<00:00, 164.56it/s]\n"
     ]
    },
    {
     "name": "stdout",
     "output_type": "stream",
     "text": [
      "验证集准确率: 0.9982\n"
     ]
    },
    {
     "name": "stderr",
     "output_type": "stream",
     "text": [
      "Epoch 8/20: 100%|██████████████████████████████████████████████████████| 782/782 [00:12<00:00, 62.01it/s, loss=0.00044]\n"
     ]
    },
    {
     "name": "stdout",
     "output_type": "stream",
     "text": [
      "Epoch 8 平均损失: 0.0156\n"
     ]
    },
    {
     "name": "stderr",
     "output_type": "stream",
     "text": [
      "验证: 100%|█████████████████████████████████████████████████████████████████████████| 782/782 [00:04<00:00, 163.02it/s]\n"
     ]
    },
    {
     "name": "stdout",
     "output_type": "stream",
     "text": [
      "验证集准确率: 0.9975\n"
     ]
    },
    {
     "name": "stderr",
     "output_type": "stream",
     "text": [
      "Epoch 9/20: 100%|██████████████████████████████████████████████████████| 782/782 [00:12<00:00, 62.79it/s, loss=0.00104]\n"
     ]
    },
    {
     "name": "stdout",
     "output_type": "stream",
     "text": [
      "Epoch 9 平均损失: 0.0169\n"
     ]
    },
    {
     "name": "stderr",
     "output_type": "stream",
     "text": [
      "验证: 100%|█████████████████████████████████████████████████████████████████████████| 782/782 [00:04<00:00, 170.04it/s]\n"
     ]
    },
    {
     "name": "stdout",
     "output_type": "stream",
     "text": [
      "验证集准确率: 0.9983\n"
     ]
    },
    {
     "name": "stderr",
     "output_type": "stream",
     "text": [
      "Epoch 10/20: 100%|████████████████████████████████████████████████████| 782/782 [00:12<00:00, 63.64it/s, loss=0.000298]\n"
     ]
    },
    {
     "name": "stdout",
     "output_type": "stream",
     "text": [
      "Epoch 10 平均损失: 0.0185\n"
     ]
    },
    {
     "name": "stderr",
     "output_type": "stream",
     "text": [
      "验证: 100%|█████████████████████████████████████████████████████████████████████████| 782/782 [00:04<00:00, 172.72it/s]\n"
     ]
    },
    {
     "name": "stdout",
     "output_type": "stream",
     "text": [
      "验证集准确率: 0.9979\n"
     ]
    },
    {
     "name": "stderr",
     "output_type": "stream",
     "text": [
      "Epoch 11/20: 100%|████████████████████████████████████████████████████| 782/782 [00:12<00:00, 64.26it/s, loss=0.000229]\n"
     ]
    },
    {
     "name": "stdout",
     "output_type": "stream",
     "text": [
      "Epoch 11 平均损失: 0.0106\n"
     ]
    },
    {
     "name": "stderr",
     "output_type": "stream",
     "text": [
      "验证: 100%|█████████████████████████████████████████████████████████████████████████| 782/782 [00:04<00:00, 175.56it/s]\n"
     ]
    },
    {
     "name": "stdout",
     "output_type": "stream",
     "text": [
      "验证集准确率: 0.9952\n"
     ]
    },
    {
     "name": "stderr",
     "output_type": "stream",
     "text": [
      "Epoch 12/20: 100%|█████████████████████████████████████████████████████| 782/782 [00:12<00:00, 64.19it/s, loss=0.00785]\n"
     ]
    },
    {
     "name": "stdout",
     "output_type": "stream",
     "text": [
      "Epoch 12 平均损失: 0.0136\n"
     ]
    },
    {
     "name": "stderr",
     "output_type": "stream",
     "text": [
      "验证: 100%|█████████████████████████████████████████████████████████████████████████| 782/782 [00:04<00:00, 173.81it/s]\n"
     ]
    },
    {
     "name": "stdout",
     "output_type": "stream",
     "text": [
      "验证集准确率: 0.9979\n"
     ]
    },
    {
     "name": "stderr",
     "output_type": "stream",
     "text": [
      "Epoch 13/20: 100%|██████████████████████████████████████████████████████| 782/782 [00:12<00:00, 64.04it/s, loss=0.0018]\n"
     ]
    },
    {
     "name": "stdout",
     "output_type": "stream",
     "text": [
      "Epoch 13 平均损失: 0.0082\n"
     ]
    },
    {
     "name": "stderr",
     "output_type": "stream",
     "text": [
      "验证: 100%|█████████████████████████████████████████████████████████████████████████| 782/782 [00:04<00:00, 174.45it/s]\n"
     ]
    },
    {
     "name": "stdout",
     "output_type": "stream",
     "text": [
      "验证集准确率: 0.9993\n"
     ]
    },
    {
     "name": "stderr",
     "output_type": "stream",
     "text": [
      "Epoch 14/20: 100%|████████████████████████████████████████████████████| 782/782 [00:12<00:00, 64.68it/s, loss=0.000677]\n"
     ]
    },
    {
     "name": "stdout",
     "output_type": "stream",
     "text": [
      "Epoch 14 平均损失: 0.0041\n"
     ]
    },
    {
     "name": "stderr",
     "output_type": "stream",
     "text": [
      "验证: 100%|█████████████████████████████████████████████████████████████████████████| 782/782 [00:04<00:00, 168.65it/s]\n"
     ]
    },
    {
     "name": "stdout",
     "output_type": "stream",
     "text": [
      "验证集准确率: 0.9994\n"
     ]
    },
    {
     "name": "stderr",
     "output_type": "stream",
     "text": [
      "Epoch 15/20: 100%|████████████████████████████████████████████████████| 782/782 [00:12<00:00, 64.38it/s, loss=0.000502]\n"
     ]
    },
    {
     "name": "stdout",
     "output_type": "stream",
     "text": [
      "Epoch 15 平均损失: 0.0035\n"
     ]
    },
    {
     "name": "stderr",
     "output_type": "stream",
     "text": [
      "验证: 100%|█████████████████████████████████████████████████████████████████████████| 782/782 [00:04<00:00, 175.35it/s]\n"
     ]
    },
    {
     "name": "stdout",
     "output_type": "stream",
     "text": [
      "验证集准确率: 0.9994\n"
     ]
    },
    {
     "name": "stderr",
     "output_type": "stream",
     "text": [
      "Epoch 16/20: 100%|████████████████████████████████████████████████████| 782/782 [00:12<00:00, 64.20it/s, loss=0.000148]\n"
     ]
    },
    {
     "name": "stdout",
     "output_type": "stream",
     "text": [
      "Epoch 16 平均损失: 0.0032\n"
     ]
    },
    {
     "name": "stderr",
     "output_type": "stream",
     "text": [
      "验证: 100%|█████████████████████████████████████████████████████████████████████████| 782/782 [00:04<00:00, 174.46it/s]\n"
     ]
    },
    {
     "name": "stdout",
     "output_type": "stream",
     "text": [
      "验证集准确率: 0.9995\n"
     ]
    },
    {
     "name": "stderr",
     "output_type": "stream",
     "text": [
      "Epoch 17/20: 100%|████████████████████████████████████████████████████| 782/782 [00:12<00:00, 63.75it/s, loss=0.000339]\n"
     ]
    },
    {
     "name": "stdout",
     "output_type": "stream",
     "text": [
      "Epoch 17 平均损失: 0.0029\n"
     ]
    },
    {
     "name": "stderr",
     "output_type": "stream",
     "text": [
      "验证: 100%|█████████████████████████████████████████████████████████████████████████| 782/782 [00:04<00:00, 176.01it/s]\n"
     ]
    },
    {
     "name": "stdout",
     "output_type": "stream",
     "text": [
      "验证集准确率: 0.9995\n"
     ]
    },
    {
     "name": "stderr",
     "output_type": "stream",
     "text": [
      "Epoch 18/20: 100%|████████████████████████████████████████████████████| 782/782 [00:12<00:00, 64.31it/s, loss=0.000861]\n"
     ]
    },
    {
     "name": "stdout",
     "output_type": "stream",
     "text": [
      "Epoch 18 平均损失: 0.0027\n"
     ]
    },
    {
     "name": "stderr",
     "output_type": "stream",
     "text": [
      "验证: 100%|█████████████████████████████████████████████████████████████████████████| 782/782 [00:04<00:00, 174.86it/s]\n"
     ]
    },
    {
     "name": "stdout",
     "output_type": "stream",
     "text": [
      "验证集准确率: 0.9995\n"
     ]
    },
    {
     "name": "stderr",
     "output_type": "stream",
     "text": [
      "Epoch 19/20: 100%|████████████████████████████████████████████████████| 782/782 [00:12<00:00, 64.05it/s, loss=0.000716]\n"
     ]
    },
    {
     "name": "stdout",
     "output_type": "stream",
     "text": [
      "Epoch 19 平均损失: 0.0024\n"
     ]
    },
    {
     "name": "stderr",
     "output_type": "stream",
     "text": [
      "验证: 100%|█████████████████████████████████████████████████████████████████████████| 782/782 [00:04<00:00, 174.19it/s]\n"
     ]
    },
    {
     "name": "stdout",
     "output_type": "stream",
     "text": [
      "验证集准确率: 0.9996\n"
     ]
    },
    {
     "name": "stderr",
     "output_type": "stream",
     "text": [
      "Epoch 20/20: 100%|█████████████████████████████████████████████████████| 782/782 [00:12<00:00, 63.88it/s, loss=8.52e-5]\n"
     ]
    },
    {
     "name": "stdout",
     "output_type": "stream",
     "text": [
      "Epoch 20 平均损失: 0.0022\n"
     ]
    },
    {
     "name": "stderr",
     "output_type": "stream",
     "text": [
      "验证: 100%|█████████████████████████████████████████████████████████████████████████| 782/782 [00:04<00:00, 174.38it/s]"
     ]
    },
    {
     "name": "stdout",
     "output_type": "stream",
     "text": [
      "验证集准确率: 0.9996\n"
     ]
    },
    {
     "name": "stderr",
     "output_type": "stream",
     "text": [
      "\n"
     ]
    }
   ],
   "source": [
    "from tqdm import tqdm\n",
    "from sklearn.metrics import accuracy_score\n",
    "\n",
    "\n",
    "def evaluate(model, val_loader, device):\n",
    "    model.eval()\n",
    "    model.to(device)\n",
    "\n",
    "    predictions = []\n",
    "    true_labels = []\n",
    "\n",
    "    with torch.no_grad():\n",
    "        for batch in tqdm(val_loader, desc=\"验证\"):\n",
    "            inputs = batch[0].to(device)\n",
    "            labels = batch[1].to(device)\n",
    "\n",
    "            outputs = model(inputs)\n",
    "            preds = torch.argmax(outputs, dim=1).cpu().numpy()\n",
    "            predictions.extend(preds)\n",
    "            true_labels.extend(labels.cpu().numpy())\n",
    "\n",
    "    # 计算准确率\n",
    "    accuracy = accuracy_score(true_labels, predictions)\n",
    "    return accuracy\n",
    "\n",
    "def train(model, train_loader, optimizer, loss_fn, device, epochs=5):\n",
    "    model.train()\n",
    "    model.to(device)\n",
    "\n",
    "    for epoch in range(epochs):\n",
    "        model.train()\n",
    "        total_loss = 0\n",
    "        progress_bar = tqdm(train_loader, desc=f\"Epoch {epoch + 1}/{epochs}\")\n",
    "\n",
    "        for batch in progress_bar:\n",
    "            # 将数据移动到设备\n",
    "            inputs = batch[0].to(device)\n",
    "            labels = batch[1].to(device)\n",
    "\n",
    "            # 前向传播\n",
    "            outputs = model(inputs)\n",
    "            loss = loss_fn(outputs, labels)\n",
    "\n",
    "            # 反向传播\n",
    "            optimizer.zero_grad()\n",
    "            loss.backward()\n",
    "            optimizer.step()\n",
    "\n",
    "            total_loss += loss.item()\n",
    "            progress_bar.set_postfix({'loss': loss.item()})\n",
    "\n",
    "        avg_loss = total_loss / len(train_loader)\n",
    "        print(f\"Epoch {epoch + 1} 平均损失: {avg_loss:.4f}\")\n",
    "        \n",
    "        # 验证集评估\n",
    "        val_accuracy = evaluate(model, train_loader, device)\n",
    "        print(f\"验证集准确率: {val_accuracy:.4f}\")\n",
    "        \n",
    "        # 动态调整学习率\n",
    "        scheduler.step(val_accuracy)\n",
    "\n",
    "# 开始训练\n",
    "device = torch.device('cuda' if torch.cuda.is_available() else 'cpu')\n",
    "train(model, train_loader, optimizer, loss_fn, device, 20)"
   ]
  },
  {
   "cell_type": "code",
   "execution_count": 28,
   "id": "13595f2a",
   "metadata": {},
   "outputs": [
    {
     "name": "stderr",
     "output_type": "stream",
     "text": [
      "验证: 100%|█████████████████████████████████████████████████████████████████████████| 782/782 [00:04<00:00, 167.77it/s]\n"
     ]
    },
    {
     "data": {
      "text/plain": [
       "0.83128"
      ]
     },
     "execution_count": 28,
     "metadata": {},
     "output_type": "execute_result"
    }
   ],
   "source": [
    "# 验证模型\n",
    "evaluate(model, test_loader, device)"
   ]
  },
  {
   "cell_type": "code",
   "execution_count": 29,
   "id": "2b3da832",
   "metadata": {},
   "outputs": [],
   "source": [
    "torch.save(model.state_dict(), 'text_classifier_model.pth')"
   ]
  },
  {
   "cell_type": "code",
   "execution_count": 30,
   "id": "2cdc58f0",
   "metadata": {},
   "outputs": [
    {
     "name": "stdout",
     "output_type": "stream",
     "text": [
      "预测结果: 正面\n"
     ]
    }
   ],
   "source": [
    "# 示例推理\n",
    "def predict_onetext(text, model, vocab, device, max_len=128):\n",
    "    # 将文本转换为数值序列\n",
    "    tokens = text.split()  # 按空格分词\n",
    "    sequence = [vocab.get(token, vocab['<UNK>']) for token in tokens]  # 将词转换为索引\n",
    "    sequence = sequence[:max_len] + [vocab['<PAD>']] * (max_len - len(sequence))  # 填充或截断\n",
    "    sequence = torch.tensor(sequence, dtype=torch.long).unsqueeze(0).to(device)  # 转换为张量并添加批次维度\n",
    "\n",
    "    # 推理\n",
    "    model.eval()\n",
    "    with torch.no_grad():\n",
    "        output = model(sequence)\n",
    "        pred = torch.argmax(output, dim=1).item()\n",
    "\n",
    "    return '正面' if pred == 1 else '负面'\n",
    "\n",
    "# 测试推理\n",
    "text = \"This movie was fantastic! I loved every minute of it.\"\n",
    "print(f\"预测结果: {predict(text, model, vocab, device)}\")"
   ]
  },
  {
   "cell_type": "code",
   "execution_count": 31,
   "id": "d6e146ef",
   "metadata": {},
   "outputs": [
    {
     "name": "stderr",
     "output_type": "stream",
     "text": [
      "测试集预测: 100%|███████████████████████████████████████████████████████████████████| 782/782 [00:04<00:00, 164.10it/s]\n"
     ]
    }
   ],
   "source": [
    "# 测试集上预测\n",
    "def predict(model, test_loader, device):\n",
    "    model.eval()\n",
    "    model.to(device)\n",
    "\n",
    "    predictions = []\n",
    "    true_labels = []\n",
    "\n",
    "    with torch.no_grad():\n",
    "        for batch in tqdm(test_loader, desc=\"测试集预测\"):\n",
    "            inputs = batch[0].to(device)\n",
    "            labels = batch[1].to(device)\n",
    "\n",
    "            outputs = model(inputs)\n",
    "            preds = torch.argmax(outputs, dim=1).cpu().numpy()\n",
    "            predictions.extend(preds)\n",
    "            true_labels.extend(labels.cpu().numpy())\n",
    "\n",
    "    return predictions, true_labels\n",
    "\n",
    "# 在测试集上进行预测\n",
    "test_predictions, test_true_labels = predict(model, test_loader, device)"
   ]
  },
  {
   "cell_type": "markdown",
   "id": "e725b063",
   "metadata": {},
   "source": [
    "#### 计算性能指标\n",
    "使用 sklearn 计算模型的性能指标，如准确率、精确率、召回率和 F1 分数"
   ]
  },
  {
   "cell_type": "code",
   "execution_count": 32,
   "id": "d49023f3",
   "metadata": {},
   "outputs": [
    {
     "name": "stdout",
     "output_type": "stream",
     "text": [
      "测试集准确率: 0.8313\n",
      "测试集精确率: 0.8342\n",
      "测试集召回率: 0.8270\n",
      "测试集 F1 分数: 0.8305\n"
     ]
    }
   ],
   "source": [
    "from sklearn.metrics import accuracy_score, precision_score, recall_score, f1_score, confusion_matrix\n",
    "\n",
    "# 计算性能指标\n",
    "accuracy = accuracy_score(test_true_labels, test_predictions)\n",
    "precision = precision_score(test_true_labels, test_predictions, average='binary')\n",
    "recall = recall_score(test_true_labels, test_predictions, average='binary')\n",
    "f1 = f1_score(test_true_labels, test_predictions, average='binary')\n",
    "\n",
    "print(f\"测试集准确率: {accuracy:.4f}\")\n",
    "print(f\"测试集精确率: {precision:.4f}\")\n",
    "print(f\"测试集召回率: {recall:.4f}\")\n",
    "print(f\"测试集 F1 分数: {f1:.4f}\")"
   ]
  },
  {
   "cell_type": "markdown",
   "id": "2e7097c7",
   "metadata": {},
   "source": [
    "#### 绘制混淆矩阵\n",
    "使用混淆矩阵可视化模型的分类性能"
   ]
  },
  {
   "cell_type": "code",
   "execution_count": 34,
   "id": "728a7525",
   "metadata": {},
   "outputs": [
    {
     "data": {
      "image/png": "[encoded data removed]",
      "text/plain": [
       "<Figure size 600x400 with 2 Axes>"
      ]
     },
     "metadata": {},
     "output_type": "display_data"
    }
   ],
   "source": [
    "import seaborn as sns\n",
    "import matplotlib.pyplot as plt\n",
    "\n",
    "# 设置 matplotlib 支持中文\n",
    "plt.rcParams['font.sans-serif'] = ['SimHei']  # 使用 SimHei 字体\n",
    "plt.rcParams['axes.unicode_minus'] = False  # 解决负号显示问题\n",
    "\n",
    "# 计算混淆矩阵\n",
    "cm = confusion_matrix(test_true_labels, test_predictions)\n",
    "\n",
    "# 绘制混淆矩阵\n",
    "plt.figure(figsize=(6, 4))\n",
    "sns.heatmap(cm, annot=True, fmt='d', cmap='Blues', xticklabels=['负面', '正面'], yticklabels=['负面', '正面'])\n",
    "plt.xlabel('预测标签')\n",
    "plt.ylabel('真实标签')\n",
    "plt.title('混淆矩阵')\n",
    "plt.show()"
   ]
  },
  {
   "cell_type": "markdown",
   "id": "eaa8d880",
   "metadata": {},
   "source": [
    "#### 分析模型的鲁棒性\n",
    "鲁棒性是指模型在面对噪声、数据分布变化等情况时的稳定性。以下是一些分析鲁棒性的方法：\n",
    "\n",
    "​噪声测试：在测试集中加入噪声（如随机替换词），观察模型性能的变化。\n",
    "​跨数据集测试：在其他类似数据集上测试模型的性能。\n",
    "​类别不平衡测试：调整测试集中正负样本的比例，观察模型性能的变化。"
   ]
  },
  {
   "cell_type": "code",
   "execution_count": 35,
   "id": "096a5cf0",
   "metadata": {},
   "outputs": [
    {
     "name": "stderr",
     "output_type": "stream",
     "text": [
      "测试集预测: 100%|███████████████████████████████████████████████████████████████████| 782/782 [00:02<00:00, 321.66it/s]"
     ]
    },
    {
     "name": "stdout",
     "output_type": "stream",
     "text": [
      "噪声测试集准确率: 0.7628\n"
     ]
    },
    {
     "name": "stderr",
     "output_type": "stream",
     "text": [
      "\n"
     ]
    }
   ],
   "source": [
    "def add_noise(texts, noise_level=0.1):\n",
    "    noisy_texts = []\n",
    "    for text in texts:\n",
    "        words = text.split()\n",
    "        for i in range(len(words)):\n",
    "            if torch.rand(1).item() < noise_level:\n",
    "                words[i] = '<UNK>'  # 用未知词替换\n",
    "        noisy_texts.append(' '.join(words))\n",
    "    return noisy_texts\n",
    "\n",
    "# 在测试集中加入噪声\n",
    "noisy_test_texts = add_noise(test_texts, noise_level=0.1)\n",
    "\n",
    "# 预处理噪声测试集\n",
    "noisy_test_sequences = [text_to_sequence(text, vocab) for text in noisy_test_texts]\n",
    "noisy_test_padded = pad_sequences(noisy_test_sequences, max_len=128)\n",
    "\n",
    "# 创建噪声测试集 DataLoader\n",
    "noisy_test_dataset = IMDBDataset(noisy_test_padded, test_labels)\n",
    "noisy_test_loader = DataLoader(noisy_test_dataset, batch_size=32, shuffle=False)\n",
    "\n",
    "# 在噪声测试集上进行预测\n",
    "noisy_test_predictions, noisy_test_true_labels = predict(model, noisy_test_loader, device)\n",
    "\n",
    "# 计算噪声测试集的性能指标\n",
    "noisy_accuracy = accuracy_score(noisy_test_true_labels, noisy_test_predictions)\n",
    "print(f\"噪声测试集准确率: {noisy_accuracy:.4f}\")"
   ]
  }
 ],
 "metadata": {
  "kernelspec": {
   "display_name": "lwm2023",
   "language": "python",
   "name": "python3"
  },
  "language_info": {
   "codemirror_mode": {
    "name": "ipython",
    "version": 3
   },
   "file_extension": ".py",
   "mimetype": "text/x-python",
   "name": "python",
   "nbconvert_exporter": "python",
   "pygments_lexer": "ipython3",
   "version": "3.8.17"
  }
 },
 "nbformat": 4,
 "nbformat_minor": 5
}
